{
    "metadata": {
        "kernelspec": {
            "name": "python3",
            "display_name": "Python 3 (ipykernel)",
            "language": "python"
        }
    },
    "nbformat": 4,
    "nbformat_minor": 2,
    "cells": [
        {
            "attachments": {},
            "cell_type": "markdown",
            "metadata": {},
            "source": [
                "# **Reinforcement Learning for Self Driving Car**"
            ]
        },
        {
            "attachments": {},
            "cell_type": "markdown",
            "metadata": {},
            "source": [
                "The code below is taken from Nicholas Renotte's tutorial on how to guide a racing car with reinforcement learning. [Tutorial](https://youtu.be/Mut_u40Sqz4?t=7595), [code on github](https://github.com/nicknochnack/ReinforcementLearningCourse/blob/main/Project%202%20-%20Self%20Driving.ipynb).\n",
                "\n",
                "You are encouraged to visit the links above and check out the full code. In this lab, you will practice training a model."
            ]
        },
        {
            "attachments": {},
            "cell_type": "markdown",
            "metadata": {},
            "source": [
                "**About the problem**"
            ]
        },
        {
            "attachments": {},
            "cell_type": "markdown",
            "metadata": {},
            "source": [
                "The goal is to train a reinforcement learning agent to drive a race car around a track.\n",
                "We will use the racing car environment from Gym environments."
            ]
        },
        {
            "attachments": {},
            "cell_type": "markdown",
            "metadata": {},
            "source": [
                "**Import libraries**"
            ]
        },
        {
            "cell_type": "code",
            "execution_count": 27,
            "metadata": {},
            "outputs": [],
            "source": [
                "import os\n",
                "# Avoid reinstalling packages that are available on edstem\n",
                "if not os.getenv(\"ED_COURSE_ID\"):\n",
                "    !pip install tensorflow stable_baselines3 torch collections gym box2d-py --user\n",
                "\n",
                "# Import gym libraries\n",
                "import gym \n",
                "\n",
                "#Import stable bbaselines libraries\n",
                "from stable_baselines3 import PPO\n",
                "from stable_baselines3.common.vec_env import VecFrameStack\n",
                "from stable_baselines3.common.evaluation import evaluate_policy"
            ]
        },
        {
            "cell_type": "code",
            "execution_count": 28,
            "metadata": {},
            "outputs": [],
            "source": [
                ""
            ]
        },
        {
            "cell_type": "code",
            "execution_count": 29,
            "metadata": {},
            "outputs": [],
            "source": [
                ""
            ]
        },
        {
            "attachments": {},
            "cell_type": "markdown",
            "metadata": {},
            "source": [
                "# Acquire the environment from Gym"
            ]
        },
        {
            "cell_type": "code",
            "execution_count": 30,
            "metadata": {},
            "outputs": [
                {
                    "ename": "DeprecatedEnv",
                    "evalue": "Environment version `v0` for `CarRacing` is deprecated. Please use the latest version `v1`.",
                    "output_type": "error",
                    "traceback": [
                        "\u001b[0;31m---------------------------------------------------------------------------\u001b[0m",
                        "\u001b[0;31mDeprecatedEnv\u001b[0m                             Traceback (most recent call last)",
                        "Input \u001b[0;32mIn [1]\u001b[0m, in \u001b[0;36m\u003ccell line: 3\u003e\u001b[0;34m()\u001b[0m\n\u001b[1;32m      1\u001b[0m \u001b[38;5;66;03m# Make the racing car environment from the Gym library\u001b[39;00m\n\u001b[1;32m      2\u001b[0m environment_name \u001b[38;5;241m=\u001b[39m \u001b[38;5;124m\"\u001b[39m\u001b[38;5;124mCarRacing-v0\u001b[39m\u001b[38;5;124m\"\u001b[39m\n\u001b[0;32m----\u003e 3\u001b[0m env \u001b[38;5;241m=\u001b[39m \u001b[43mgym\u001b[49m\u001b[38;5;241;43m.\u001b[39;49m\u001b[43mmake\u001b[49m\u001b[43m(\u001b[49m\u001b[43menvironment_name\u001b[49m\u001b[43m)\u001b[49m\n",
                        "File \u001b[0;32m/usr/lib/python3.10/site-packages/gym/envs/registration.py:676\u001b[0m, in \u001b[0;36mmake\u001b[0;34m(id, **kwargs)\u001b[0m\n\u001b[1;32m    675\u001b[0m \u001b[38;5;28;01mdef\u001b[39;00m \u001b[38;5;21mmake\u001b[39m(\u001b[38;5;28mid\u001b[39m: \u001b[38;5;28mstr\u001b[39m, \u001b[38;5;241m*\u001b[39m\u001b[38;5;241m*\u001b[39mkwargs) \u001b[38;5;241m-\u001b[39m\u001b[38;5;241m\u003e\u001b[39m \u001b[38;5;124m\"\u001b[39m\u001b[38;5;124mEnv\u001b[39m\u001b[38;5;124m\"\u001b[39m:\n\u001b[0;32m--\u003e 676\u001b[0m     \u001b[38;5;28;01mreturn\u001b[39;00m \u001b[43mregistry\u001b[49m\u001b[38;5;241;43m.\u001b[39;49m\u001b[43mmake\u001b[49m\u001b[43m(\u001b[49m\u001b[38;5;28;43mid\u001b[39;49m\u001b[43m,\u001b[49m\u001b[43m \u001b[49m\u001b[38;5;241;43m*\u001b[39;49m\u001b[38;5;241;43m*\u001b[39;49m\u001b[43mkwargs\u001b[49m\u001b[43m)\u001b[49m\n",
                        "File \u001b[0;32m/usr/lib/python3.10/site-packages/gym/envs/registration.py:518\u001b[0m, in \u001b[0;36mEnvRegistry.make\u001b[0;34m(self, path, **kwargs)\u001b[0m\n\u001b[1;32m    515\u001b[0m     path \u001b[38;5;241m=\u001b[39m latest_versioned_spec\u001b[38;5;241m.\u001b[39mid\n\u001b[1;32m    517\u001b[0m \u001b[38;5;66;03m# Lookup our path\u001b[39;00m\n\u001b[0;32m--\u003e 518\u001b[0m spec \u001b[38;5;241m=\u001b[39m \u001b[38;5;28;43mself\u001b[39;49m\u001b[38;5;241;43m.\u001b[39;49m\u001b[43mspec\u001b[49m\u001b[43m(\u001b[49m\u001b[43mpath\u001b[49m\u001b[43m)\u001b[49m\n\u001b[1;32m    519\u001b[0m \u001b[38;5;66;03m# Construct the environment\u001b[39;00m\n\u001b[1;32m    520\u001b[0m \u001b[38;5;28;01mreturn\u001b[39;00m spec\u001b[38;5;241m.\u001b[39mmake(\u001b[38;5;241m*\u001b[39m\u001b[38;5;241m*\u001b[39mkwargs)\n",
                        "File \u001b[0;32m/usr/lib/python3.10/site-packages/gym/envs/registration.py:540\u001b[0m, in \u001b[0;36mEnvRegistry.spec\u001b[0;34m(self, path)\u001b[0m\n\u001b[1;32m    536\u001b[0m     \u001b[38;5;28mid\u001b[39m \u001b[38;5;241m=\u001b[39m path\n\u001b[1;32m    538\u001b[0m \u001b[38;5;66;03m# We can go ahead and return the env_spec.\u001b[39;00m\n\u001b[1;32m    539\u001b[0m \u001b[38;5;66;03m# The EnvSpecTree will take care of any exceptions.\u001b[39;00m\n\u001b[0;32m--\u003e 540\u001b[0m \u001b[38;5;28;01mreturn\u001b[39;00m \u001b[38;5;28;43mself\u001b[39;49m\u001b[38;5;241;43m.\u001b[39;49m\u001b[43menv_specs\u001b[49m\u001b[43m[\u001b[49m\u001b[38;5;28;43mid\u001b[39;49m\u001b[43m]\u001b[49m\n",
                        "File \u001b[0;32m/usr/lib/python3.10/site-packages/gym/envs/registration.py:376\u001b[0m, in \u001b[0;36mEnvSpecTree.__getitem__\u001b[0;34m(self, key)\u001b[0m\n\u001b[1;32m    371\u001b[0m \u001b[38;5;28;01mdef\u001b[39;00m \u001b[38;5;21m__getitem__\u001b[39m(\u001b[38;5;28mself\u001b[39m, key: \u001b[38;5;28mstr\u001b[39m) \u001b[38;5;241m-\u001b[39m\u001b[38;5;241m\u003e\u001b[39m EnvSpec:\n\u001b[1;32m    372\u001b[0m     \u001b[38;5;66;03m# Get an item from the tree.\u001b[39;00m\n\u001b[1;32m    373\u001b[0m     \u001b[38;5;66;03m# We first parse the components so we can look up the\u001b[39;00m\n\u001b[1;32m    374\u001b[0m     \u001b[38;5;66;03m# appropriate environment ID.\u001b[39;00m\n\u001b[1;32m    375\u001b[0m     namespace, name, version \u001b[38;5;241m=\u001b[39m parse_env_id(key)\n\u001b[0;32m--\u003e 376\u001b[0m     \u001b[38;5;28;43mself\u001b[39;49m\u001b[38;5;241;43m.\u001b[39;49m\u001b[43m_assert_version_exists\u001b[49m\u001b[43m(\u001b[49m\u001b[43mnamespace\u001b[49m\u001b[43m,\u001b[49m\u001b[43m \u001b[49m\u001b[43mname\u001b[49m\u001b[43m,\u001b[49m\u001b[43m \u001b[49m\u001b[43mversion\u001b[49m\u001b[43m)\u001b[49m\n\u001b[1;32m    378\u001b[0m     \u001b[38;5;28;01mreturn\u001b[39;00m \u001b[38;5;28mself\u001b[39m\u001b[38;5;241m.\u001b[39mtree[namespace][name][version]\n",
                        "File \u001b[0;32m/usr/lib/python3.10/site-packages/gym/envs/registration.py:342\u001b[0m, in \u001b[0;36mEnvSpecTree._assert_version_exists\u001b[0;34m(self, namespace, name, version)\u001b[0m\n\u001b[1;32m    340\u001b[0m     message \u001b[38;5;241m+\u001b[39m\u001b[38;5;241m=\u001b[39m \u001b[38;5;124m\"\u001b[39m\u001b[38;5;124mis deprecated. \u001b[39m\u001b[38;5;124m\"\u001b[39m\n\u001b[1;32m    341\u001b[0m     message \u001b[38;5;241m+\u001b[39m\u001b[38;5;241m=\u001b[39m \u001b[38;5;124mf\u001b[39m\u001b[38;5;124m\"\u001b[39m\u001b[38;5;124mPlease use the latest version `v\u001b[39m\u001b[38;5;132;01m{\u001b[39;00mlatest_spec\u001b[38;5;241m.\u001b[39mversion\u001b[38;5;132;01m}\u001b[39;00m\u001b[38;5;124m`.\u001b[39m\u001b[38;5;124m\"\u001b[39m\n\u001b[0;32m--\u003e 342\u001b[0m     \u001b[38;5;28;01mraise\u001b[39;00m error\u001b[38;5;241m.\u001b[39mDeprecatedEnv(message)\n\u001b[1;32m    343\u001b[0m \u001b[38;5;66;03m# If this version doesn't exist and there only exists a default version\u001b[39;00m\n\u001b[1;32m    344\u001b[0m \u001b[38;5;28;01melif\u001b[39;00m latest_spec \u001b[38;5;129;01mand\u001b[39;00m latest_spec\u001b[38;5;241m.\u001b[39mversion \u001b[38;5;129;01mis\u001b[39;00m \u001b[38;5;28;01mNone\u001b[39;00m:\n",
                        "\u001b[0;31mDeprecatedEnv\u001b[0m: Environment version `v0` for `CarRacing` is deprecated. Please use the latest version `v1`."
                    ]
                }
            ],
            "source": [
                "# Make the racing car environment from the Gym library\n",
                "environment_name = \"CarRacing-v0\"\n",
                "env = gym.make(environment_name)"
            ]
        },
        {
            "attachments": {},
            "cell_type": "markdown",
            "metadata": {},
            "source": [
                "# Test the environment"
            ]
        },
        {
            "cell_type": "code",
            "execution_count": 16,
            "metadata": {},
            "outputs": [],
            "source": [
                "# Trigger Ed's X display to visualize the environment\n",
                "!xdpyinfo\n",
                "\n",
                "# Test five episodes of taking random Actions\n",
                "# in the environment\n",
                "episodes = 5\n",
                "for episode in range(1, episodes+1):\n",
                "    state = env.reset()\n",
                "    done = False\n",
                "    score = 0 \n",
                "    \n",
                "    while not done:\n",
                "        env.render()\n",
                "        action = env.action_space.sample()\n",
                "        n_state, reward, done, info = env.step(action)\n",
                "        score+=reward\n",
                "    print('Episode:{} Score:{}'.format(episode, score))\n",
                "    \n",
                "env.close()\n",
                ""
            ]
        },
        {
            "cell_type": "code",
            "execution_count": 19,
            "metadata": {},
            "outputs": [
                {
                    "data": {
                        "text/plain": "array([-0.7086604 ,  0.5878188 ,  0.53462154], dtype=float32)"
                    },
                    "execution_count": 19,
                    "metadata": {},
                    "output_type": "execute_result"
                }
            ],
            "source": [
                "#TODO: Write code to inspect the action space of the environment\n",
                "env.action_space.sample()"
            ]
        },
        {
            "cell_type": "code",
            "execution_count": 20,
            "metadata": {},
            "outputs": [
                {
                    "data": {
                        "text/plain": "array([[[133, 163, 146],\n        [101, 189,  37],\n        [  2, 254,  72],\n        ...,\n        [160, 233,  24],\n        [241, 203, 196],\n        [170, 128,  41]],\n\n       [[248, 169, 223],\n        [133,  67,  51],\n        [218,  14,  67],\n        ...,\n        [111,  96, 184],\n        [ 56,  78,  95],\n        [179,  68,  92]],\n\n       [[152, 250,  90],\n        [ 62,  99, 138],\n        [  2, 184,  88],\n        ...,\n        [155,  56,   0],\n        [195, 139, 201],\n        [170, 196,  68]],\n\n       ...,\n\n       [[ 82, 197, 204],\n        [195, 152, 255],\n        [120, 163, 141],\n        ...,\n        [ 31,  84, 119],\n        [123,  80,  80],\n        [151, 151, 241]],\n\n       [[114,  72, 159],\n        [169, 157, 148],\n        [234, 217, 156],\n        ...,\n        [221,  37,  10],\n        [ 69, 218, 249],\n        [ 73,  73, 160]],\n\n       [[244,  20,  27],\n        [149, 177, 129],\n        [195,  69, 148],\n        ...,\n        [137, 189, 243],\n        [ 30, 118,  21],\n        [ 21, 112, 173]]], dtype=uint8)"
                    },
                    "execution_count": 20,
                    "metadata": {},
                    "output_type": "execute_result"
                }
            ],
            "source": [
                "#TODO: Write code to inspect the observation space of the environment\n",
                "env.observation_space.sample()"
            ]
        },
        {
            "attachments": {},
            "cell_type": "markdown",
            "metadata": {},
            "source": [
                "# Earn Your Wings"
            ]
        },
        {
            "attachments": {},
            "cell_type": "markdown",
            "metadata": {},
            "source": [
                "Implement the rest of the reinforcement learning algorithm to train the model using CnnPolicy. Save the training in the log_path defined below, and evaluate the model at the end with render set to False. Add comments in your code to explain each step that you take in your implementation."
            ]
        },
        {
            "cell_type": "code",
            "execution_count": 20,
            "metadata": {},
            "outputs": [],
            "source": [
                "log_path = os.path.join('/tmp/ReinforcementLearning/SelfDriving/Training', 'Logs')"
            ]
        }
    ]
}
